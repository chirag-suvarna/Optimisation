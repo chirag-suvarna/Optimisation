{
  "cells": [
    {
      "cell_type": "code",
      "execution_count": 118,
      "id": "badc5dc2",
      "metadata": {
        "id": "badc5dc2"
      },
      "outputs": [],
      "source": [
        "import numpy as np\n",
        "import random\n",
        "import math\n",
        "import matplotlib.pyplot as plt"
      ]
    },
    {
      "cell_type": "code",
      "execution_count": 119,
      "id": "b6ed5b06",
      "metadata": {
        "id": "b6ed5b06"
      },
      "outputs": [],
      "source": [
        "x = np.array([1.05, 3.15, 4.43, 7.87])"
      ]
    },
    {
      "cell_type": "code",
      "execution_count": 120,
      "id": "d9340057",
      "metadata": {},
      "outputs": [],
      "source": [
        "bounds = [[0.125, 5], [0.125, 5], [0.1, 10], [0.1, 10]]"
      ]
    },
    {
      "cell_type": "code",
      "execution_count": 121,
      "id": "6e47acf3",
      "metadata": {},
      "outputs": [],
      "source": [
        "np.random.seed(0)"
      ]
    },
    {
      "cell_type": "code",
      "execution_count": 122,
      "id": "d8702eaf",
      "metadata": {
        "id": "d8702eaf"
      },
      "outputs": [],
      "source": [
        "#Objective Function\n",
        "def f(x):\n",
        "    f.counter += 1 #Increment Counter\n",
        "    return  1.10471*(x[0]**2)*x[1] + 0.04811*(x[2])*x[3]*(14.0 + x[1])\n",
        "f.counter = 0"
      ]
    },
    {
      "cell_type": "code",
      "execution_count": 123,
      "id": "56dce657",
      "metadata": {},
      "outputs": [
        {
          "data": {
            "text/plain": [
              "7576.976732983058"
            ]
          },
          "execution_count": 123,
          "metadata": {},
          "output_type": "execute_result"
        }
      ],
      "source": [
        "#Stress Terms  \n",
        "\n",
        "def tau_prime(x):\n",
        "    return 6000 / (np.sqrt(2) * x[0] * x[1])\n",
        "\n",
        "def tau_pprime(x):\n",
        "    upperleft = 6000 * (14 + 0.5 * x[1])\n",
        "    upperright = np.sqrt(0.25*((x[1]**2)+(x[0]+x[2])**2))\n",
        "    lower = 2*(0.707*x[0]*x[1]*(((x[1]**2)/12)+(0.25)*(x[0]+x[2])**2))\n",
        "    return upperleft * upperright / lower\n",
        "\n",
        "def tau(x):\n",
        "    return np.sqrt((tau_prime(x)**2) + (tau_pprime(x)**2) + (x[1] * tau_prime(x) * tau_pprime(x)) / np.sqrt(0.25 * ((x[1]**2) + (x[0] + x[2])**2)))\n",
        "def σ(x) :\n",
        "    return 504000/((x[2]**2)*x[3])\n",
        "        \n",
        "def Pc(x) :\n",
        "    return 64746.022*((1-0.0282346*x[2])*x[2]*x[3]**3)\n",
        "\n",
        "tau_pprime(x)"
      ]
    },
    {
      "cell_type": "code",
      "execution_count": 124,
      "id": "9d9f2651",
      "metadata": {},
      "outputs": [],
      "source": [
        "# Constraint Functions\n",
        "\n",
        "def g1(x) :\n",
        "    g1.counter += 1 #Increment Counter\n",
        "    return 13600 - tau(x)\n",
        "g1.counter = 0\n",
        "\n",
        "def g2(x) :\n",
        "    g2.counter += 1 #Increment Counter\n",
        "    return 30000 - σ(x)\n",
        "g2.counter = 0\n",
        "\n",
        "def g3(x) :\n",
        "    g3.counter += 1 #Increment Counter\n",
        "    return x[3] - x[0]\n",
        "g3.counter = 0 \n",
        "\n",
        "def g4(x) :\n",
        "    g4.counter += 1 #Increment Counter\n",
        "    return Pc(x) - 6000\n",
        "g4.counter = 0 \n",
        "\n"
      ]
    },
    {
      "cell_type": "code",
      "execution_count": 125,
      "id": "sjnX8BZHweea",
      "metadata": {
        "colab": {
          "base_uri": "https://localhost:8080/"
        },
        "id": "sjnX8BZHweea",
        "outputId": "7a76bd03-108a-4219-ff1c-d7acaca18e6f"
      },
      "outputs": [
        {
          "name": "stdout",
          "output_type": "stream",
          "text": [
            "Objective function output 32.6024179859\n",
            "First constraint output 5308.848564674312\n",
            "Second constraint output 26736.764990548952\n",
            "Third constraint output 6.82\n",
            "Fourth constraint output 122317448.61430933\n"
          ]
        }
      ],
      "source": [
        "print(\"Objective function output\",f(x))\n",
        "print(\"First constraint output\",g1(x))\n",
        "print(\"Second constraint output\",g2(x))\n",
        "print(\"Third constraint output\",g3(x))\n",
        "print(\"Fourth constraint output\",g4(x))"
      ]
    },
    {
      "cell_type": "code",
      "execution_count": 158,
      "id": "8de099d3",
      "metadata": {
        "id": "8de099d3"
      },
      "outputs": [],
      "source": [
        "#Random Search\n",
        "def randomsearch (max_evaluations) :\n",
        "    xbest = [np.random.uniform(bound[0], bound[1]) for bound in bounds]\n",
        "    ybest = f(xbest)\n",
        "    \n",
        "    for i in range(max_evaluations) :\n",
        "         x = [np.random.uniform(bound[0], bound[1]) for bound in bounds]\n",
        "         y = f(x)\n",
        "         if g1(x) >= 0:\n",
        "             if g2(x) >= 0:\n",
        "                 if g3(x) >= 0:\n",
        "                     if g4(x) >= 0:\n",
        "                        \n",
        "                        if y < ybest :\n",
        "                             xbest = x \n",
        "                             ybest = y\n",
        "                             return xbest,ybest\n"
      ]
    },
    {
      "cell_type": "markdown",
      "id": "s9PgevMeIez3",
      "metadata": {
        "id": "s9PgevMeIez3"
      },
      "source": []
    },
    {
      "cell_type": "code",
      "execution_count": 159,
      "id": "lDMxWmXCvzo0",
      "metadata": {
        "id": "lDMxWmXCvzo0"
      },
      "outputs": [
        {
          "name": "stdout",
          "output_type": "stream",
          "text": [
            "[ 2271.09050819 -1616.29945775   -43.54788297     8.06804052]\n",
            "-9209535361.083742\n"
          ]
        }
      ],
      "source": [
        "#Simulated Annealing\n",
        "def simulatedannealing(max_evaluations) :\n",
        "    xbest = [np.random.uniform(bound[0], bound[1]) for bound in bounds]\n",
        "    ybest = f(xbest)\n",
        "    Xc = xbest\n",
        "    Yc = ybest\n",
        "    sigmas = [(bound[1] - bound[0]) * 0.1 for bound in bounds]\n",
        "    covariance_matrix = np.diag(sigmas)\n",
        "    \n",
        "    for k in range (1,max_evaluations) :\n",
        "        xdash = x_prime = np.random.multivariate_normal(Xc, covariance_matrix)\n",
        "        ydash = f(xdash)\n",
        "        deltay = ydash - Yc\n",
        "        if deltay <= 0 or np.random.uniform(0,1) < min(math.exp(-deltay/100),1) :\n",
        "            Xc,Yc = xdash,ydash\n",
        "        if ydash < ybest :\n",
        "            xbest,ybest = xdash,ydash        \n",
        "    return xbest,ybest\n",
        "best_x , best_y=simulatedannealing(10000)\n",
        "print(best_x)\n",
        "print(best_y)"
      ]
    },
    {
      "cell_type": "code",
      "execution_count": 161,
      "id": "b814364c",
      "metadata": {},
      "outputs": [
        {
          "name": "stdout",
          "output_type": "stream",
          "text": [
            "Random search min f(x): 33.58121609551393\n",
            "Random search min f(x): -9781271897.263357\n",
            "Random search min f(x): 72.47787601354207\n",
            "Random search min f(x): -367542837.20806366\n",
            "Random search min f(x): 6.686703906542843\n",
            "Random search min f(x): -8597950390.769415\n",
            "Random search min f(x): 17.975375535723522\n",
            "Random search min f(x): -8487436530.594905\n",
            "Random search min f(x): 8.680338003995494\n",
            "Random search min f(x): -9029461837.394522\n",
            "Random search min f(x): 7.510708233591134\n",
            "Random search min f(x): -9208164964.177341\n",
            "Random search min f(x): 21.360840112500483\n",
            "Random search min f(x): -8963893858.790947\n",
            "Random search min f(x): 5.333917606809133\n",
            "Random search min f(x): -9496746885.934364\n",
            "Random search min f(x): 45.620531136942056\n",
            "Random search min f(x): -8761154775.47231\n",
            "Random search min f(x): 17.821199211528246\n",
            "Random search min f(x): -9732928782.21004\n",
            "Random search min f(x): 16.513746332778968\n",
            "Random search min f(x): -8668163355.283737\n",
            "Random search min f(x): 3.6308507290242256\n",
            "Random search min f(x): -8986227172.914322\n"
          ]
        },
        {
          "ename": "TypeError",
          "evalue": "cannot unpack non-iterable NoneType object",
          "output_type": "error",
          "traceback": [
            "\u001b[1;31m---------------------------------------------------------------------------\u001b[0m",
            "\u001b[1;31mTypeError\u001b[0m                                 Traceback (most recent call last)",
            "\u001b[1;32mc:\\Users\\ASUS\\Desktop\\New folder\\img\\2149107.ipynb Cell 12\u001b[0m line \u001b[0;36m3\n\u001b[0;32m      <a href='vscode-notebook-cell:/c%3A/Users/ASUS/Desktop/New%20folder/img/2149107.ipynb#X15sZmlsZQ%3D%3D?line=0'>1</a>\u001b[0m max_evaluations\u001b[39m=\u001b[39m\u001b[39m10000\u001b[39m\n\u001b[0;32m      <a href='vscode-notebook-cell:/c%3A/Users/ASUS/Desktop/New%20folder/img/2149107.ipynb#X15sZmlsZQ%3D%3D?line=1'>2</a>\u001b[0m \u001b[39mfor\u001b[39;00m i \u001b[39min\u001b[39;00m \u001b[39mrange\u001b[39m(\u001b[39m1\u001b[39m,\u001b[39m21\u001b[39m) :\n\u001b[1;32m----> <a href='vscode-notebook-cell:/c%3A/Users/ASUS/Desktop/New%20folder/img/2149107.ipynb#X15sZmlsZQ%3D%3D?line=2'>3</a>\u001b[0m     xbest,ybest \u001b[39m=\u001b[39m randomsearch(max_evaluations)\n\u001b[0;32m      <a href='vscode-notebook-cell:/c%3A/Users/ASUS/Desktop/New%20folder/img/2149107.ipynb#X15sZmlsZQ%3D%3D?line=3'>4</a>\u001b[0m     \u001b[39mprint\u001b[39m(\u001b[39m\"\u001b[39m\u001b[39mRandom search min f(x):\u001b[39m\u001b[39m\"\u001b[39m,ybest) \n\u001b[0;32m      <a href='vscode-notebook-cell:/c%3A/Users/ASUS/Desktop/New%20folder/img/2149107.ipynb#X15sZmlsZQ%3D%3D?line=5'>6</a>\u001b[0m     xbest,ybest \u001b[39m=\u001b[39m simulatedannealing(max_evaluations)\n",
            "\u001b[1;31mTypeError\u001b[0m: cannot unpack non-iterable NoneType object"
          ]
        }
      ],
      "source": [
        "max_evaluations=10000\n",
        "for i in range(1,21) :\n",
        "    xbest,ybest = randomsearch(max_evaluations)\n",
        "    print(\"Random search min f(x):\",ybest) \n",
        "\n",
        "    xbest,ybest = simulatedannealing(max_evaluations)\n",
        "    print(\"Random search min f(x):\",ybest) \n",
        "\n",
        "\n",
        "    \n"
      ]
    },
    {
      "cell_type": "code",
      "execution_count": 148,
      "id": "140659fc",
      "metadata": {},
      "outputs": [
        {
          "name": "stdout",
          "output_type": "stream",
          "text": [
            "True\n"
          ]
        }
      ],
      "source": [
        "g= 8\n",
        "h= 5\n",
        "if g==10 and h==5:\n",
        "    print(\"false\")\n",
        "else :\n",
        "    print(\"True\")"
      ]
    },
    {
      "cell_type": "code",
      "execution_count": null,
      "id": "14bd7604",
      "metadata": {},
      "outputs": [],
      "source": []
    }
  ],
  "metadata": {
    "colab": {
      "provenance": []
    },
    "kernelspec": {
      "display_name": "Python 3 (ipykernel)",
      "language": "python",
      "name": "python3"
    },
    "language_info": {
      "codemirror_mode": {
        "name": "ipython",
        "version": 3
      },
      "file_extension": ".py",
      "mimetype": "text/x-python",
      "name": "python",
      "nbconvert_exporter": "python",
      "pygments_lexer": "ipython3",
      "version": "3.11.6"
    }
  },
  "nbformat": 4,
  "nbformat_minor": 5
}
