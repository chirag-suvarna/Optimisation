{
  "cells": [
    {
      "cell_type": "code",
      "execution_count": 225,
      "id": "badc5dc2",
      "metadata": {
        "id": "badc5dc2"
      },
      "outputs": [],
      "source": [
        "import numpy as np\n",
        "import random\n",
        "import math\n",
        "import matplotlib.pyplot as plt\n",
        "from scipy.stats import mannwhitneyu"
      ]
    },
    {
      "cell_type": "code",
      "execution_count": 226,
      "id": "b6ed5b06",
      "metadata": {
        "id": "b6ed5b06"
      },
      "outputs": [],
      "source": [
        "# Define the initial point 'x' and bounds for each parameter.\n",
        "\n",
        "x = np.array([1.05, 3.15, 4.43, 7.87])\n",
        "bounds = [[0.125, 5], [0.125, 5], [0.1, 10], [0.1, 10]]"
      ]
    },
    {
      "cell_type": "code",
      "execution_count": 227,
      "id": "6e47acf3",
      "metadata": {},
      "outputs": [],
      "source": [
        "# Initialize random seed for reproducibility.\n",
        "\n",
        "np.random.seed(100)"
      ]
    },
    {
      "cell_type": "code",
      "execution_count": 228,
      "id": "d8702eaf",
      "metadata": {
        "id": "d8702eaf"
      },
      "outputs": [],
      "source": [
        "# Define the objective function 'f' and its counter for tracking function evaluations.\n",
        "#Objective Function\n",
        "\n",
        "def f(x):\n",
        "    f.counter += 1 #Increment Counter\n",
        "    return  1.10471*(x[0]**2)*x[1] + 0.04811*(x[2])*x[3]*(14.0 + x[1])\n",
        "f.counter = 0"
      ]
    },
    {
      "cell_type": "code",
      "execution_count": 229,
      "id": "56dce657",
      "metadata": {},
      "outputs": [],
      "source": [
        "# Define stress-related functions, including 'tau_prime,' 'tau_pprime,' 'tau,' 'σ,' and 'Pc.'\n",
        "# These functions are used to calculate stress-related terms in the problem.\n",
        "#Stress Terms  \n",
        "\n",
        "def tau_prime(x):\n",
        "    return 6000 / (np.sqrt(2) * x[0] * x[1])\n",
        "\n",
        "def tau_pprime(x):\n",
        "    # Calculate tau double prime based on specified formulas.\n",
        "    upperleft = 6000 * (14 + 0.5 * x[1])\n",
        "    upperright = np.sqrt(0.25*((x[1]**2)+(x[0]+x[2])**2))\n",
        "    lower = 2*(0.707*x[0]*x[1]*(((x[1]**2)/12)+(0.25)*(x[0]+x[2])**2))\n",
        "    return upperleft * upperright / lower\n",
        "\n",
        "def tau(x):\n",
        "    # Calculate tau based on specified formulas\n",
        "    return np.sqrt((tau_prime(x)**2) + (tau_pprime(x)**2) + (x[1] * tau_prime(x) * tau_pprime(x)) / np.sqrt(0.25 * ((x[1]**2) + (x[0] + x[2])**2)))\n",
        "\n",
        "def σ(x) :\n",
        "    # Calculate stress based on specified formula.\n",
        "    return 504000/((x[2]**2)*x[3])\n",
        "        \n",
        "def Pc(x) :\n",
        "    # Calculate stress based on specified formula.\n",
        "    return 64746.022*((1-0.0282346*x[2])*x[2]*x[3]**3)\n"
      ]
    },
    {
      "cell_type": "code",
      "execution_count": 230,
      "id": "9d9f2651",
      "metadata": {},
      "outputs": [],
      "source": [
        "# Define constraint functions 'g1,' 'g2,' 'g3,' and 'g4' with counters for tracking function evaluations.\n",
        "# Constraint Functions\n",
        "\n",
        "def g1(x) :\n",
        "    g1.counter += 1 #Increment Counter\n",
        "    return 13600 - tau(x)\n",
        "g1.counter = 0\n",
        "\n",
        "def g2(x) :\n",
        "    g2.counter += 1 #Increment Counter\n",
        "    return 30000 - σ(x)\n",
        "g2.counter = 0\n",
        "\n",
        "def g3(x) :\n",
        "    g3.counter += 1 #Increment Counter\n",
        "    return x[3] - x[0]\n",
        "g3.counter = 0 \n",
        "\n",
        "def g4(x) :\n",
        "    g4.counter += 1 #Increment Counter\n",
        "    return Pc(x) - 6000\n",
        "g4.counter = 0 \n",
        "\n"
      ]
    },
    {
      "cell_type": "code",
      "execution_count": 231,
      "id": "sjnX8BZHweea",
      "metadata": {
        "colab": {
          "base_uri": "https://localhost:8080/"
        },
        "id": "sjnX8BZHweea",
        "outputId": "7a76bd03-108a-4219-ff1c-d7acaca18e6f"
      },
      "outputs": [
        {
          "name": "stdout",
          "output_type": "stream",
          "text": [
            "Objective function output 32.6024179859\n",
            "First constraint output 5308.848564674312\n",
            "Second constraint output 26736.764990548952\n",
            "Third constraint output 6.82\n",
            "Fourth constraint output 122317448.61430933\n"
          ]
        }
      ],
      "source": [
        "# Calculate and print the output of the objective function and constraint functions.\n",
        "\n",
        "print(\"Objective function output\",f(x))\n",
        "print(\"First constraint output\",g1(x))\n",
        "print(\"Second constraint output\",g2(x))\n",
        "print(\"Third constraint output\",g3(x))\n",
        "print(\"Fourth constraint output\",g4(x))"
      ]
    },
    {
      "cell_type": "code",
      "execution_count": 232,
      "id": "8de099d3",
      "metadata": {
        "id": "8de099d3"
      },
      "outputs": [],
      "source": [
        "# Define a random search function.\n",
        "\n",
        "def randomsearch (max_evaluations) :\n",
        "    xbest = [np.random.uniform(bound[0], bound[1]) for bound in bounds]\n",
        "    ybest = f(xbest)\n",
        "    \n",
        "    for i in range(max_evaluations) :\n",
        "        x = [np.random.uniform(bound[0], bound[1]) for bound in bounds]\n",
        "        if g1(x) >= 0:\n",
        "            if g2(x) >= 0:\n",
        "                if g3(x) >= 0:\n",
        "                    if g4(x) >= 0:\n",
        "                        y = f(x)\n",
        "                        if y < ybest :\n",
        "                            xbest = x \n",
        "                            ybest = y\n",
        "        return xbest,ybest\n",
        "        \n"
      ]
    },
    {
      "cell_type": "markdown",
      "id": "s9PgevMeIez3",
      "metadata": {
        "id": "s9PgevMeIez3"
      },
      "source": []
    },
    {
      "cell_type": "code",
      "execution_count": 233,
      "id": "lDMxWmXCvzo0",
      "metadata": {
        "id": "lDMxWmXCvzo0"
      },
      "outputs": [],
      "source": [
        "# Define a simulated annealing function.\n",
        "\n",
        "def simulatedannealing(max_evaluations,Tk) :\n",
        "    # Initialize starting point and covariance matrix.\n",
        "    xbest = [np.random.uniform(bound[0], bound[1]) for bound in bounds]\n",
        "    ybest = f(xbest)\n",
        "    Xc = xbest\n",
        "    Yc = ybest\n",
        "    sigmas = [(bound[1] - bound[0]) * 0.1 for bound in bounds]\n",
        "    covariance_matrix = np.diag(sigmas)\n",
        "    \n",
        "    for k in range (1,max_evaluations,Tk) :\n",
        "        xdash = x_prime = np.random.multivariate_normal(Xc, covariance_matrix)\n",
        "        ydash = f(xdash)\n",
        "        deltay = ydash - Yc\n",
        "        if g1(x) >= 0:\n",
        "             if g2(x) >= 0:\n",
        "                 if g3(x) >= 0:\n",
        "                     if g4(x) >= 0:\n",
        "                        if deltay <= 0 or np.random.uniform(0,1) < min(math.exp(-deltay/Tk),1) :\n",
        "                             Xc,Yc = xdash,ydash\n",
        "                             if ydash < ybest :\n",
        "                                 xbest,ybest = xdash,ydash       \n",
        "        return xbest,ybest\n"
      ]
    },
    {
      "cell_type": "code",
      "execution_count": 236,
      "id": "b814364c",
      "metadata": {},
      "outputs": [
        {
          "data": {
            "image/png": "[encoded data removed]",
            "text/plain": [
              "<Figure size 640x480 with 1 Axes>"
            ]
          },
          "metadata": {},
          "output_type": "display_data"
        }
      ],
      "source": [
        "# Initialize lists to store results of multiple repetitions.\n",
        "random_search_results = []\n",
        "simulated_annealing_results = []\n",
        "max_evaluations = 10000\n",
        "repetitions = 21\n",
        "Tk = 100\n",
        "\n",
        "\n",
        "# Perform multiple repetitions of Random Search and Simulated Annealing.\n",
        "for i in range(1,repetitions) :\n",
        "    # Random Search\n",
        "    xbest, ybest = randomsearch(max_evaluations)\n",
        "    random_search_results.append(ybest)\n",
        "\n",
        "    # Simulated Annealing\n",
        "    xbest, ybest = simulatedannealing(max_evaluations,Tk)\n",
        "    simulated_annealing_results.append(ybest)\n",
        "\n",
        "# Create a box plot to visualize the performance comparison.    \n",
        "data = [random_search_results, simulated_annealing_results]\n",
        "labels = ['Random Search', 'Simulated Annealing']\n",
        "plt.boxplot(data, labels=labels)\n",
        "plt.ylabel('Minimum f(x)')\n",
        "plt.title('Performance Comparison')\n",
        "\n",
        " \n",
        "# Display the box plot.\n",
        "plt.show()   \n",
        "\n"
      ]
    },
    {
      "cell_type": "code",
      "execution_count": 235,
      "id": "194e8e4e",
      "metadata": {},
      "outputs": [
        {
          "name": "stdout",
          "output_type": "stream",
          "text": [
            "Number of time  f(x) function used 75\n",
            "Number of time  g1(x) function used 41\n",
            "Number of time  g2(x) function used 38\n",
            "Number of time  g3(x) function used 37\n",
            "Number of time  g4(x) function used 35\n"
          ]
        }
      ],
      "source": [
        "print(\"Number of time  f(x) function used\",f.counter)\n",
        "print(\"Number of time  g1(x) function used\",g1.counter)\n",
        "print(\"Number of time  g2(x) function used\",g2.counter)\n",
        "print(\"Number of time  g3(x) function used\",g3.counter)\n",
        "print(\"Number of time  g4(x) function used\",g4.counter)"
      ]
    },
    {
      "cell_type": "code",
      "execution_count": 217,
      "id": "f8d1544d",
      "metadata": {},
      "outputs": [
        {
          "name": "stdout",
          "output_type": "stream",
          "text": [
            "No significant difference between the methods based on the Mann-Whitney U test.\n",
            "Mann-Whitney U Statistic: 130.0\n",
            "P-Value: 0.06011064176288863\n"
          ]
        }
      ],
      "source": [
        "# Perform the Mann-Whitney U test\n",
        "statistic, p_value = mannwhitneyu(random_search_results, simulated_annealing_results)\n",
        "\n",
        "# Set the significance level (alpha)\n",
        "alpha = 0.05\n",
        "\n",
        "# Check the p-value against the significance level\n",
        "if p_value < alpha:\n",
        "    print(\"The Mann-Whitney U test indicates a significant difference between the methods.\")\n",
        "else:\n",
        "    print(\"No significant difference between the methods based on the Mann-Whitney U test.\")\n",
        "\n",
        "# Print the results\n",
        "print(\"Mann-Whitney U Statistic:\", statistic)\n",
        "print(\"P-Value:\", p_value)"
      ]
    },
    {
      "cell_type": "code",
      "execution_count": null,
      "id": "412b18d7",
      "metadata": {},
      "outputs": [],
      "source": []
    }
  ],
  "metadata": {
    "colab": {
      "provenance": []
    },
    "kernelspec": {
      "display_name": "Python 3 (ipykernel)",
      "language": "python",
      "name": "python3"
    },
    "language_info": {
      "codemirror_mode": {
        "name": "ipython",
        "version": 3
      },
      "file_extension": ".py",
      "mimetype": "text/x-python",
      "name": "python",
      "nbconvert_exporter": "python",
      "pygments_lexer": "ipython3",
      "version": "3.11.6"
    }
  },
  "nbformat": 4,
  "nbformat_minor": 5
}
